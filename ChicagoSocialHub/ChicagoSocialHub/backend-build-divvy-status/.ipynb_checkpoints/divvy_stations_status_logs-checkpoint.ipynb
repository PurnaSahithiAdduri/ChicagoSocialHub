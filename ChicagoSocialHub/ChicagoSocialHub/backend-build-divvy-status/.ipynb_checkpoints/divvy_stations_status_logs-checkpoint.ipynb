{
 "cells": [
  {
   "cell_type": "code",
   "execution_count": 1,
   "metadata": {},
   "outputs": [
    {
     "name": "stdout",
     "output_type": "stream",
     "text": [
      "[WinError 10061] No connection could be made because the target machine actively refused it\n"
     ]
    },
    {
     "ename": "OSError",
     "evalue": "[WinError 10057] A request to send or receive data was disallowed because the socket is not connected and (when sending on a datagram socket using a sendto call) no address was supplied",
     "output_type": "error",
     "traceback": [
      "\u001b[1;31m---------------------------------------------------------------------------\u001b[0m",
      "\u001b[1;31mOSError\u001b[0m                                   Traceback (most recent call last)",
      "\u001b[1;32m<ipython-input-1-dfb84ba013ec>\u001b[0m in \u001b[0;36m<module>\u001b[1;34m\u001b[0m\n\u001b[0;32m     41\u001b[0m \u001b[1;33m\u001b[0m\u001b[0m\n\u001b[0;32m     42\u001b[0m     \u001b[1;32mfor\u001b[0m \u001b[0mstations\u001b[0m \u001b[1;32min\u001b[0m \u001b[0mstations_json\u001b[0m\u001b[1;33m[\u001b[0m\u001b[1;34m'stationBeanList'\u001b[0m\u001b[1;33m]\u001b[0m\u001b[1;33m:\u001b[0m\u001b[1;33m\u001b[0m\u001b[1;33m\u001b[0m\u001b[0m\n\u001b[1;32m---> 43\u001b[1;33m         \u001b[0msock\u001b[0m\u001b[1;33m.\u001b[0m\u001b[0msend\u001b[0m\u001b[1;33m(\u001b[0m\u001b[0mjson\u001b[0m\u001b[1;33m.\u001b[0m\u001b[0mdumps\u001b[0m\u001b[1;33m(\u001b[0m\u001b[0mstations\u001b[0m\u001b[1;33m)\u001b[0m\u001b[1;33m.\u001b[0m\u001b[0mencode\u001b[0m\u001b[1;33m(\u001b[0m\u001b[1;34m'utf-8'\u001b[0m\u001b[1;33m)\u001b[0m\u001b[1;33m)\u001b[0m\u001b[1;33m\u001b[0m\u001b[1;33m\u001b[0m\u001b[0m\n\u001b[0m\u001b[0;32m     44\u001b[0m         \u001b[0msock\u001b[0m\u001b[1;33m.\u001b[0m\u001b[0msend\u001b[0m\u001b[1;33m(\u001b[0m\u001b[1;34mb'\\n'\u001b[0m\u001b[1;33m)\u001b[0m\u001b[1;33m\u001b[0m\u001b[1;33m\u001b[0m\u001b[0m\n\u001b[0;32m     45\u001b[0m \u001b[1;33m\u001b[0m\u001b[0m\n",
      "\u001b[1;31mOSError\u001b[0m: [WinError 10057] A request to send or receive data was disallowed because the socket is not connected and (when sending on a datagram socket using a sendto call) no address was supplied"
     ]
    }
   ],
   "source": [
    "# This script will poll Divvy servers every 2 minutes \n",
    "# and write the data to logstash that will subsequently write the data\n",
    "# to index divvy_stations_logs on ElasticSearch servers\n",
    "# Execute this script from the command line by typing the following:\n",
    "# python divvy_stations_status_logs.py\n",
    "\n",
    "\n",
    "import json\n",
    "import socket\n",
    "import time\n",
    "import urllib.request\n",
    "\n",
    "\n",
    "# specify the port number that we will write into\n",
    "# this should be the same port number that is configured in logstash.conf\n",
    "\n",
    "HOST = \"127.0.0.1\"\n",
    "PORT = 5044\n",
    "\n",
    "try:\n",
    "    sock = socket.socket(socket.AF_INET, socket.SOCK_STREAM)\n",
    "except Exception as e:\n",
    "    print(e)\n",
    "\n",
    "try:\n",
    "    sock.connect((HOST, PORT))\n",
    "except Exception as e:\n",
    "    print(e)\n",
    "\n",
    "\n",
    "while True:\n",
    "    \n",
    "    response = urllib.request.urlopen('https://feeds.divvybikes.com/stations/stations.json')\n",
    "\n",
    "    # Extract the body of the reply\n",
    "    response_body = response.read()\n",
    "\n",
    "    # Decode the format in json format\n",
    "    stations_json = json.loads(response_body.decode(\"utf-8\"))\n",
    "\n",
    "\n",
    "    for stations in stations_json['stationBeanList']: \n",
    "        sock.send(json.dumps(stations).encode('utf-8'))\n",
    "        sock.send(b'\\n')\n",
    "     \n",
    "    \n",
    "  # Sleep for 125 seconds; divvy updates its stations status every 2 minutes\n",
    "    print('Sent Heartbeat to Divvy Servers and Going to sleep for 125 seconds now ...')\n",
    "    time.sleep(125)    \n",
    "    continue\n",
    "\n",
    "sock.close()\n"
   ]
  },
  {
   "cell_type": "code",
   "execution_count": null,
   "metadata": {},
   "outputs": [],
   "source": []
  },
  {
   "cell_type": "code",
   "execution_count": null,
   "metadata": {},
   "outputs": [],
   "source": []
  }
 ],
 "metadata": {
  "kernelspec": {
   "display_name": "Python 3",
   "language": "python",
   "name": "python3"
  },
  "language_info": {
   "codemirror_mode": {
    "name": "ipython",
    "version": 3
   },
   "file_extension": ".py",
   "mimetype": "text/x-python",
   "name": "python",
   "nbconvert_exporter": "python",
   "pygments_lexer": "ipython3",
   "version": "3.7.1"
  }
 },
 "nbformat": 4,
 "nbformat_minor": 2
}
