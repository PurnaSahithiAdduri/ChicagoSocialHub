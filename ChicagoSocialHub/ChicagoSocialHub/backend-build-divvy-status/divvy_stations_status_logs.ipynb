{
 "cells": [
  {
   "cell_type": "code",
   "execution_count": 16,
   "metadata": {},
   "outputs": [
    {
     "ename": "SyntaxError",
     "evalue": "'continue' not properly in loop (<ipython-input-16-2a881c3af936>, line 45)",
     "output_type": "error",
     "traceback": [
      "\u001b[0;36m  File \u001b[0;32m\"<ipython-input-16-2a881c3af936>\"\u001b[0;36m, line \u001b[0;32m45\u001b[0m\n\u001b[0;31mSyntaxError\u001b[0m\u001b[0;31m:\u001b[0m 'continue' not properly in loop\n"
     ]
    }
   ],
   "source": [
    "import json\n",
    "import socket\n",
    "import time\n",
    "import urllib.request\n",
    "import datetime\n",
    "import random\n",
    "import requests\n",
    "import os\n",
    "import pandas as pd\n",
    "import csv\n",
    "from elasticsearch import Elasticsearch, helpers \n",
    "from pprint import pprint\n",
    "\n",
    "\n",
    "es = Elasticsearch()\n",
    "\n",
    "    \n",
    "response = urllib.request.urlopen('https://feeds.divvybikes.com/stations/stations.json')\n",
    "\n",
    "# Extract the body of the reply\n",
    "response_body = response.read()\n",
    "\n",
    "# Decode the format in json format\n",
    "stations_json = json.loads(response_body.decode(\"utf-8\"))\n",
    "\n",
    "\n",
    "list__divvy_data_documents = []\n",
    "\n",
    "for row in stations_json['stationBeanList']:\n",
    "    index_review = {\n",
    "    \"_index\": \"divvy_stations_logs\",\n",
    "    \"_type\": \"logs\",\n",
    "    \"_source\": row \n",
    "    }\n",
    "    list__divvy_data_documents.append(index_review)\n",
    "\n",
    "helpers.bulk(es, divvy_data_documents)\n",
    "\n",
    "# Sleep for 125 seconds; divvy updates its stations status every 2 minutes\n",
    "print('Sent Heartbeat to Divvy Servers and Going to sleep for 120 seconds now ...')\n",
    "time.sleep(120)    \n",
    "continue"
   ]
  },
  {
   "cell_type": "code",
   "execution_count": 17,
   "metadata": {},
   "outputs": [
    {
     "ename": "NameError",
     "evalue": "name 'list__divvy_data_documents' is not defined",
     "output_type": "error",
     "traceback": [
      "\u001b[0;31m---------------------------------------------------------------------------\u001b[0m",
      "\u001b[0;31mNameError\u001b[0m                                 Traceback (most recent call last)",
      "\u001b[0;32m<ipython-input-17-cce19b7719e7>\u001b[0m in \u001b[0;36m<module>\u001b[0;34m\u001b[0m\n\u001b[1;32m     34\u001b[0m         \u001b[0;34m\"_source\"\u001b[0m\u001b[0;34m:\u001b[0m \u001b[0mrow\u001b[0m\u001b[0;34m\u001b[0m\u001b[0;34m\u001b[0m\u001b[0m\n\u001b[1;32m     35\u001b[0m         }\n\u001b[0;32m---> 36\u001b[0;31m     \u001b[0mlist__divvy_data_documents\u001b[0m\u001b[0;34m.\u001b[0m\u001b[0mappend\u001b[0m\u001b[0;34m(\u001b[0m\u001b[0mindex_review\u001b[0m\u001b[0;34m)\u001b[0m\u001b[0;34m\u001b[0m\u001b[0;34m\u001b[0m\u001b[0m\n\u001b[0m\u001b[1;32m     37\u001b[0m \u001b[0;34m\u001b[0m\u001b[0m\n\u001b[1;32m     38\u001b[0m     \u001b[0mhelpers\u001b[0m\u001b[0;34m.\u001b[0m\u001b[0mbulk\u001b[0m\u001b[0;34m(\u001b[0m\u001b[0mes\u001b[0m\u001b[0;34m,\u001b[0m \u001b[0mdivvy_data_documents\u001b[0m\u001b[0;34m)\u001b[0m\u001b[0;34m\u001b[0m\u001b[0;34m\u001b[0m\u001b[0m\n",
      "\u001b[0;31mNameError\u001b[0m: name 'list__divvy_data_documents' is not defined"
     ]
    }
   ],
   "source": [
    "import json\n",
    "import socket\n",
    "import time\n",
    "import urllib.request\n",
    "import datetime\n",
    "import random\n",
    "import requests\n",
    "import os\n",
    "import pandas as pd\n",
    "import csv\n",
    "from elasticsearch import Elasticsearch, helpers \n",
    "from pprint import pprint\n",
    "\n",
    "\n",
    "es = Elasticsearch()\n",
    "\n",
    "    \n",
    "response = urllib.request.urlopen('https://feeds.divvybikes.com/stations/stations.json')\n",
    "\n",
    "# Extract the body of the reply\n",
    "response_body = response.read()\n",
    "\n",
    "# Decode the format in json format\n",
    "stations_json = json.loads(response_body.decode(\"utf-8\"))\n",
    "\n",
    "\n",
    "divvy_data_documents = []\n",
    "\n",
    "for row in stations_json['stationBeanList']:\n",
    "    index_review = {\n",
    "    \"_index\": \"divvy_stations_logs\",\n",
    "    \"_type\": \"logs\",\n",
    "    \"_source\": row \n",
    "    }\n",
    "    list__divvy_data_documents.append(index_review)\n",
    "\n",
    "helpers.bulk(es, divvy_data_documents)\n",
    "\n",
    "# Sleep for 125 seconds; divvy updates its stations status every 2 minutes\n",
    "print('Sent Heartbeat to Divvy Servers and Going to sleep for 120 seconds now ...')\n",
    "time.sleep(120)    \n",
    "continue"
   ]
  },
  {
   "cell_type": "code",
   "execution_count": null,
   "metadata": {},
   "outputs": [],
   "source": []
  }
 ],
 "metadata": {
  "kernelspec": {
   "display_name": "Python 3",
   "language": "python",
   "name": "python3"
  },
  "language_info": {
   "codemirror_mode": {
    "name": "ipython",
    "version": 3
   },
   "file_extension": ".py",
   "mimetype": "text/x-python",
   "name": "python",
   "nbconvert_exporter": "python",
   "pygments_lexer": "ipython3",
   "version": "3.7.3"
  }
 },
 "nbformat": 4,
 "nbformat_minor": 2
}
