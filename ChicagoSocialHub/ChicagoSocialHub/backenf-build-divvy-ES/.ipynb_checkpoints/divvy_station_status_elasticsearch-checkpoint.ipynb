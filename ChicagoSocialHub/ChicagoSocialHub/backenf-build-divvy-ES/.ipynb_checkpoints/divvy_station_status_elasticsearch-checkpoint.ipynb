{
 "cells": [
  {
   "cell_type": "code",
   "execution_count": 2,
   "metadata": {},
   "outputs": [
    {
     "ename": "ModuleNotFoundError",
     "evalue": "No module named 'elasticsearch'",
     "output_type": "error",
     "traceback": [
      "\u001b[1;31m---------------------------------------------------------------------------\u001b[0m",
      "\u001b[1;31mModuleNotFoundError\u001b[0m                       Traceback (most recent call last)",
      "\u001b[1;32m<ipython-input-2-0379e8ca5d79>\u001b[0m in \u001b[0;36m<module>\u001b[1;34m\u001b[0m\n\u001b[0;32m      8\u001b[0m \u001b[1;32mimport\u001b[0m \u001b[0murllib\u001b[0m\u001b[1;33m.\u001b[0m\u001b[0mrequest\u001b[0m\u001b[1;33m\u001b[0m\u001b[1;33m\u001b[0m\u001b[0m\n\u001b[0;32m      9\u001b[0m \u001b[1;32mfrom\u001b[0m \u001b[0murllib\u001b[0m\u001b[1;33m.\u001b[0m\u001b[0mrequest\u001b[0m \u001b[1;32mimport\u001b[0m \u001b[0murlopen\u001b[0m\u001b[1;33m\u001b[0m\u001b[1;33m\u001b[0m\u001b[0m\n\u001b[1;32m---> 10\u001b[1;33m \u001b[1;32mfrom\u001b[0m \u001b[0melasticsearch\u001b[0m \u001b[1;32mimport\u001b[0m \u001b[0mElasticsearch\u001b[0m\u001b[1;33m,\u001b[0m \u001b[0mhelpers\u001b[0m\u001b[1;33m\u001b[0m\u001b[1;33m\u001b[0m\u001b[0m\n\u001b[0m\u001b[0;32m     11\u001b[0m \u001b[1;33m\u001b[0m\u001b[0m\n\u001b[0;32m     12\u001b[0m \u001b[1;32mimport\u001b[0m \u001b[0mjson\u001b[0m\u001b[1;33m\u001b[0m\u001b[1;33m\u001b[0m\u001b[0m\n",
      "\u001b[1;31mModuleNotFoundError\u001b[0m: No module named 'elasticsearch'"
     ]
    }
   ],
   "source": [
    "import pandas as pd\n",
    "from pprint import pprint\n",
    "import json\n",
    "import requests\n",
    "import datetime\n",
    "import time\n",
    "import pandas as pd\n",
    "import urllib.request\n",
    "from urllib.request import urlopen\n",
    "from elasticsearch import Elasticsearch, helpers \n",
    "\n",
    "import json\n",
    "import csv\n",
    "\n",
    "from pprint import pprint\n"
   ]
  },
  {
   "cell_type": "code",
   "execution_count": null,
   "metadata": {},
   "outputs": [],
   "source": [
    "#initilizing elasticsearch\n",
    "es = Elasticsearch()\n",
    "divvy_logs = []\n",
    "# Get divvy statations status\n",
    "# Status is returned as a json reply\n",
    "\n",
    "while True:\n",
    "    \n",
    "    #Extracting stations.json from divvy bikes\n",
    "    response = urlopen('https://feeds.divvybikes.com/stations/stations.json')\n",
    "\n",
    "    # Extract the body of the reply\n",
    "    response_body = response.read()\n",
    "\n",
    "    # Decode the format in json format\n",
    "    stations_json = json.loads(response_body.decode(\"utf-8\"))    \n",
    "    \n",
    "    #creating index for the divvy stations logs\n",
    "    for x in stations_json['stationBeanList']:\n",
    "        index_stations_logs = {\n",
    "        \"_index\": \"divvy_stations_logs\",\n",
    "        \"_type\": \"logs\",\n",
    "        \"_source\": x \n",
    "        }\n",
    "        #appending created index\n",
    "        divvy_logs.append(index_stations_logs)\n",
    "    \n",
    "    helpers.bulk(es, divvy_logs)\n",
    "    \n",
    "    # Sleep for 125 seconds; divvy updates its stations status every 2 minutes\n",
    "    print('Sent Heartbeat to Divvy Servers and Going to sleep for 120 seconds now ...')\n",
    "    time.sleep(120)   \n",
    "    \n",
    "    continue\n"
   ]
  },
  {
   "cell_type": "code",
   "execution_count": null,
   "metadata": {},
   "outputs": [],
   "source": []
  },
  {
   "cell_type": "code",
   "execution_count": null,
   "metadata": {},
   "outputs": [],
   "source": []
  }
 ],
 "metadata": {
  "kernelspec": {
   "display_name": "Python 3",
   "language": "python",
   "name": "python3"
  }
 },
 "nbformat": 4,
 "nbformat_minor": 2
}
