{
 "cells": [
  {
   "cell_type": "code",
   "execution_count": 1,
   "metadata": {},
   "outputs": [],
   "source": [
    "import pandas as pd\n",
    "from pprint import pprint\n",
    "import json\n",
    "import requests\n",
    "import datetime\n",
    "import time\n",
    "import pandas as pd\n",
    "import urllib.request\n",
    "from urllib.request import urlopen\n",
    "from elasticsearch import Elasticsearch, helpers \n",
    "\n",
    "import json\n",
    "import csv\n",
    "\n",
    "from pprint import pprint\n"
   ]
  },
  {
   "cell_type": "code",
   "execution_count": null,
   "metadata": {},
   "outputs": [
    {
     "name": "stdout",
     "output_type": "stream",
     "text": [
      "Sent Heartbeat to Divvy Servers and Going to sleep for 120 seconds now ...\n",
      "Sent Heartbeat to Divvy Servers and Going to sleep for 120 seconds now ...\n",
      "Sent Heartbeat to Divvy Servers and Going to sleep for 120 seconds now ...\n"
     ]
    }
   ],
   "source": [
    "#initilizing elasticsearch\n",
    "es = Elasticsearch()\n",
    "divvy_logs = []\n",
    "# Get divvy statations status\n",
    "# Status is returned as a json reply\n",
    "\n",
    "while True:\n",
    "    \n",
    "    #Extracting stations.json from divvy bikes\n",
    "    response = urlopen('https://feeds.divvybikes.com/stations/stations.json')\n",
    "\n",
    "    # Extract the body of the reply\n",
    "    response_body = response.read()\n",
    "\n",
    "    # Decode the format in json format\n",
    "    stations_json = json.loads(response_body.decode(\"utf-8\"))    \n",
    "    \n",
    "    #creating index for the divvy stations logs\n",
    "    for x in stations_json['stationBeanList']:\n",
    "        index_stations_logs = {\n",
    "        \"_index\": \"divvy_stations_logs\",\n",
    "        \"_type\": \"logs\",\n",
    "        \"_source\": x \n",
    "        }\n",
    "        #appending created index\n",
    "        divvy_logs.append(index_stations_logs)\n",
    "    \n",
    "    helpers.bulk(es, divvy_logs)\n",
    "    \n",
    "    # Sleep for 125 seconds; divvy updates its stations status every 2 minutes\n",
    "    print('Sent Heartbeat to Divvy Servers and Going to sleep for 120 seconds now ...')\n",
    "    time.sleep(120)   \n",
    "    \n",
    "    continue\n"
   ]
  },
  {
   "cell_type": "code",
   "execution_count": null,
   "metadata": {},
   "outputs": [],
   "source": []
  },
  {
   "cell_type": "code",
   "execution_count": null,
   "metadata": {},
   "outputs": [],
   "source": []
  }
 ],
 "metadata": {
  "kernelspec": {
   "display_name": "Python 3",
   "language": "python",
   "name": "python3"
  },
  "language_info": {
   "codemirror_mode": {
    "name": "ipython",
    "version": 3
   },
   "file_extension": ".py",
   "mimetype": "text/x-python",
   "name": "python",
   "nbconvert_exporter": "python",
   "pygments_lexer": "ipython3",
   "version": "3.7.3"
  }
 },
 "nbformat": 4,
 "nbformat_minor": 2
}
